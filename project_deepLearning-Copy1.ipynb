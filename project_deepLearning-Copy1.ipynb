{
 "cells": [
  {
   "cell_type": "code",
   "execution_count": 56,
   "id": "95022384",
   "metadata": {},
   "outputs": [],
   "source": [
    "#libraries for data visualization, manupulation and numerical computation\n",
    "import numpy as np \n",
    "import pandas as pd \n",
    "import matplotlib.pyplot as plt \n",
    "\n",
    "from sklearn.preprocessing import MinMaxScaler\n",
    "from keras.models import Sequential            #analyze sequence of data\n",
    "from keras.layers import Dense,LSTM,Dropout    #measure dropout trait\n"
   ]
  },
  {
   "cell_type": "code",
   "execution_count": 57,
   "id": "fe9a4cf6",
   "metadata": {},
   "outputs": [
    {
     "data": {
      "text/html": [
       "<div>\n",
       "<style scoped>\n",
       "    .dataframe tbody tr th:only-of-type {\n",
       "        vertical-align: middle;\n",
       "    }\n",
       "\n",
       "    .dataframe tbody tr th {\n",
       "        vertical-align: top;\n",
       "    }\n",
       "\n",
       "    .dataframe thead th {\n",
       "        text-align: right;\n",
       "    }\n",
       "</style>\n",
       "<table border=\"1\" class=\"dataframe\">\n",
       "  <thead>\n",
       "    <tr style=\"text-align: right;\">\n",
       "      <th></th>\n",
       "      <th>Date</th>\n",
       "      <th>Open</th>\n",
       "      <th>High</th>\n",
       "      <th>Low</th>\n",
       "      <th>Close</th>\n",
       "      <th>Volume</th>\n",
       "    </tr>\n",
       "  </thead>\n",
       "  <tbody>\n",
       "    <tr>\n",
       "      <th>0</th>\n",
       "      <td>01-03-2012</td>\n",
       "      <td>325.25</td>\n",
       "      <td>332.83</td>\n",
       "      <td>324.97</td>\n",
       "      <td>663.59</td>\n",
       "      <td>73,80,500</td>\n",
       "    </tr>\n",
       "    <tr>\n",
       "      <th>1</th>\n",
       "      <td>01-04-2012</td>\n",
       "      <td>331.27</td>\n",
       "      <td>333.87</td>\n",
       "      <td>329.08</td>\n",
       "      <td>666.45</td>\n",
       "      <td>57,49,400</td>\n",
       "    </tr>\n",
       "    <tr>\n",
       "      <th>2</th>\n",
       "      <td>01-05-2012</td>\n",
       "      <td>329.83</td>\n",
       "      <td>330.75</td>\n",
       "      <td>326.89</td>\n",
       "      <td>657.21</td>\n",
       "      <td>65,90,300</td>\n",
       "    </tr>\n",
       "    <tr>\n",
       "      <th>3</th>\n",
       "      <td>01-06-2012</td>\n",
       "      <td>328.34</td>\n",
       "      <td>328.77</td>\n",
       "      <td>323.68</td>\n",
       "      <td>648.24</td>\n",
       "      <td>54,05,900</td>\n",
       "    </tr>\n",
       "    <tr>\n",
       "      <th>4</th>\n",
       "      <td>01-09-2012</td>\n",
       "      <td>322.04</td>\n",
       "      <td>322.29</td>\n",
       "      <td>309.46</td>\n",
       "      <td>620.76</td>\n",
       "      <td>1,16,88,800</td>\n",
       "    </tr>\n",
       "  </tbody>\n",
       "</table>\n",
       "</div>"
      ],
      "text/plain": [
       "         Date    Open    High     Low   Close       Volume\n",
       "0  01-03-2012  325.25  332.83  324.97  663.59    73,80,500\n",
       "1  01-04-2012  331.27  333.87  329.08  666.45    57,49,400\n",
       "2  01-05-2012  329.83  330.75  326.89  657.21    65,90,300\n",
       "3  01-06-2012  328.34  328.77  323.68  648.24    54,05,900\n",
       "4  01-09-2012  322.04  322.29  309.46  620.76  1,16,88,800"
      ]
     },
     "execution_count": 57,
     "metadata": {},
     "output_type": "execute_result"
    }
   ],
   "source": [
    "obj = pd.read_csv('C:/Users/hp/Desktop/jupyter/Train.csv')  #loading data\n",
    "obj.head()"
   ]
  },
  {
   "cell_type": "code",
   "execution_count": 58,
   "id": "11eb3065",
   "metadata": {},
   "outputs": [
    {
     "name": "stdout",
     "output_type": "stream",
     "text": [
      "<class 'pandas.core.frame.DataFrame'>\n",
      "RangeIndex: 1258 entries, 0 to 1257\n",
      "Data columns (total 6 columns):\n",
      " #   Column  Non-Null Count  Dtype  \n",
      "---  ------  --------------  -----  \n",
      " 0   Date    1258 non-null   object \n",
      " 1   Open    1258 non-null   float64\n",
      " 2   High    1258 non-null   float64\n",
      " 3   Low     1258 non-null   float64\n",
      " 4   Close   1258 non-null   object \n",
      " 5   Volume  1258 non-null   object \n",
      "dtypes: float64(3), object(3)\n",
      "memory usage: 59.1+ KB\n"
     ]
    }
   ],
   "source": [
    "obj.info()               \n"
   ]
  },
  {
   "cell_type": "code",
   "execution_count": 59,
   "id": "d566b824",
   "metadata": {},
   "outputs": [],
   "source": [
    "obj[\"Close\"]=pd.to_numeric(obj.Close,errors='coerce')   #closing type to numeric type\n",
    "obj = obj.dropna()                                      #drop non available data\n",
    "train_data = obj.iloc[:,4:5].values                     #close column opted; iloc=indexlocation"
   ]
  },
  {
   "cell_type": "code",
   "execution_count": 60,
   "id": "da7e519b",
   "metadata": {},
   "outputs": [
    {
     "name": "stdout",
     "output_type": "stream",
     "text": [
      "<class 'pandas.core.frame.DataFrame'>\n",
      "Int64Index: 1149 entries, 0 to 1257\n",
      "Data columns (total 6 columns):\n",
      " #   Column  Non-Null Count  Dtype  \n",
      "---  ------  --------------  -----  \n",
      " 0   Date    1149 non-null   object \n",
      " 1   Open    1149 non-null   float64\n",
      " 2   High    1149 non-null   float64\n",
      " 3   Low     1149 non-null   float64\n",
      " 4   Close   1149 non-null   float64\n",
      " 5   Volume  1149 non-null   object \n",
      "dtypes: float64(4), object(2)\n",
      "memory usage: 62.8+ KB\n"
     ]
    }
   ],
   "source": [
    "obj.info()"
   ]
  },
  {
   "cell_type": "code",
   "execution_count": 55,
   "id": "71ca2561",
   "metadata": {},
   "outputs": [
    {
     "data": {
      "text/plain": [
       "(1149, 1)"
      ]
     },
     "execution_count": 55,
     "metadata": {},
     "output_type": "execute_result"
    }
   ],
   "source": [
    "#Rescaling data\n",
    "scaled_data = MinMaxScaler(feature_range=(0,1))          \n",
    "train_data = scaled_data.fit_transform(train_data)      #tranforming values\n",
    "train_data.shape"
   ]
  },
  {
   "cell_type": "code",
   "execution_count": 41,
   "id": "d54295c3",
   "metadata": {},
   "outputs": [],
   "source": [
    "#preparing data for training\n",
    "Xtrain = []\n",
    "Ytrain = []\n",
    "\n",
    "for i in range (60,1149): #60 : timestep // 1149 : length of the data\n",
    "    Xtrain.append(train_data[i-60:i,0]) \n",
    "    Ytrain.append(train_data[i,0])\n",
    "\n",
    "Xtrain,Ytrain = np.array(Xtrain),np.array(Ytrain)"
   ]
  },
  {
   "cell_type": "code",
   "execution_count": 42,
   "id": "21a945d9",
   "metadata": {},
   "outputs": [
    {
     "data": {
      "text/plain": [
       "(1089, 60, 1)"
      ]
     },
     "execution_count": 42,
     "metadata": {},
     "output_type": "execute_result"
    }
   ],
   "source": [
    "Xtrain = np.reshape(Xtrain,(Xtrain.shape[0],Xtrain.shape[1],1)) #adding the batch_size axis\n",
    "Xtrain.shape"
   ]
  },
  {
   "cell_type": "code",
   "execution_count": 43,
   "id": "b286dfa3",
   "metadata": {},
   "outputs": [],
   "source": [
    "final_model = Sequential()\n",
    "\n",
    "final_model.add(LSTM(units=100, return_sequences = True, input_shape =(Xtrain.shape[1],1)))\n",
    "final_model.add(Dropout(0.2))\n",
    "\n",
    "final_model.add(LSTM(units=100, return_sequences = True))\n",
    "final_model.add(Dropout(0.2))\n",
    "\n",
    "final_model.add(LSTM(units=100, return_sequences = True))\n",
    "final_model.add(Dropout(0.2))\n",
    "\n",
    "final_model.add(LSTM(units=100, return_sequences = False))\n",
    "final_model.add(Dropout(0.2))\n",
    "\n",
    "final_model.add(Dense(units =1))\n",
    "final_model.compile(optimizer='adam',loss=\"mean_squared_error\")"
   ]
  },
  {
   "cell_type": "code",
   "execution_count": 44,
   "id": "45464096",
   "metadata": {},
   "outputs": [
    {
     "name": "stdout",
     "output_type": "stream",
     "text": [
      "Epoch 1/20\n",
      "35/35 - 11s - loss: 0.0455 - 11s/epoch - 304ms/step\n",
      "Epoch 2/20\n",
      "35/35 - 4s - loss: 0.0112 - 4s/epoch - 113ms/step\n",
      "Epoch 3/20\n",
      "35/35 - 4s - loss: 0.0108 - 4s/epoch - 111ms/step\n",
      "Epoch 4/20\n",
      "35/35 - 4s - loss: 0.0085 - 4s/epoch - 114ms/step\n",
      "Epoch 5/20\n",
      "35/35 - 4s - loss: 0.0080 - 4s/epoch - 112ms/step\n",
      "Epoch 6/20\n",
      "35/35 - 4s - loss: 0.0097 - 4s/epoch - 114ms/step\n",
      "Epoch 7/20\n",
      "35/35 - 4s - loss: 0.0075 - 4s/epoch - 117ms/step\n",
      "Epoch 8/20\n",
      "35/35 - 5s - loss: 0.0076 - 5s/epoch - 149ms/step\n",
      "Epoch 9/20\n",
      "35/35 - 5s - loss: 0.0066 - 5s/epoch - 147ms/step\n",
      "Epoch 10/20\n",
      "35/35 - 5s - loss: 0.0066 - 5s/epoch - 147ms/step\n",
      "Epoch 11/20\n",
      "35/35 - 5s - loss: 0.0057 - 5s/epoch - 148ms/step\n",
      "Epoch 12/20\n",
      "35/35 - 5s - loss: 0.0060 - 5s/epoch - 144ms/step\n",
      "Epoch 13/20\n",
      "35/35 - 5s - loss: 0.0058 - 5s/epoch - 153ms/step\n",
      "Epoch 14/20\n",
      "35/35 - 5s - loss: 0.0055 - 5s/epoch - 144ms/step\n",
      "Epoch 15/20\n",
      "35/35 - 5s - loss: 0.0058 - 5s/epoch - 149ms/step\n",
      "Epoch 16/20\n",
      "35/35 - 5s - loss: 0.0055 - 5s/epoch - 148ms/step\n",
      "Epoch 17/20\n",
      "35/35 - 5s - loss: 0.0049 - 5s/epoch - 149ms/step\n",
      "Epoch 18/20\n",
      "35/35 - 5s - loss: 0.0047 - 5s/epoch - 147ms/step\n",
      "Epoch 19/20\n",
      "35/35 - 5s - loss: 0.0054 - 5s/epoch - 146ms/step\n",
      "Epoch 20/20\n",
      "35/35 - 5s - loss: 0.0044 - 5s/epoch - 149ms/step\n"
     ]
    }
   ],
   "source": [
    "hist = final_model.fit(Xtrain, Ytrain, epochs = 20, batch_size = 32, verbose=2)  #training data"
   ]
  },
  {
   "cell_type": "code",
   "execution_count": 45,
   "id": "8e4dcaea",
   "metadata": {},
   "outputs": [
    {
     "data": {
      "image/png": "[encoded data removed]",
      "text/plain": [
       "<Figure size 432x288 with 1 Axes>"
      ]
     },
     "metadata": {
      "needs_background": "light"
     },
     "output_type": "display_data"
    }
   ],
   "source": [
    "#visualizing loss\n",
    "plt.plot(hist.history['loss'])\n",
    "plt.title('Training model loss')\n",
    "plt.ylabel('loss')\n",
    "plt.xlabel('epoch')\n",
    "plt.legend(['train'], loc='upper left')\n",
    "plt.show()"
   ]
  },
  {
   "cell_type": "code",
   "execution_count": 46,
   "id": "a721ea2a",
   "metadata": {},
   "outputs": [
    {
     "data": {
      "text/plain": [
       "(192, 60, 1)"
      ]
     },
     "execution_count": 46,
     "metadata": {},
     "output_type": "execute_result"
    }
   ],
   "source": [
    "#for test data\n",
    "testData = pd.read_csv('C:/Users/hp/Desktop/jupyter/Test.csv')\n",
    "testData[\"Close\"]=pd.to_numeric(testData.Close,errors='coerce')\n",
    "testData = testData.dropna()\n",
    "testData = testData.iloc[:,4:5]\n",
    "y_test = testData.iloc[60:,0:].values \n",
    "#input array for the model\n",
    "inputClosing = testData.iloc[:,0:].values \n",
    "inputClosing_scaled = scaled_data.transform(inputClosing)\n",
    "inputClosing_scaled.shape\n",
    "X_test = []\n",
    "length = len(testData)\n",
    "timestep = 60\n",
    "for i in range(timestep,length):  \n",
    "    X_test.append(inputClosing_scaled[i-timestep:i,0])\n",
    "X_test = np.array(X_test)\n",
    "X_test = np.reshape(X_test,(X_test.shape[0],X_test.shape[1],1))\n",
    "X_test.shape"
   ]
  },
  {
   "cell_type": "code",
   "execution_count": 47,
   "id": "0ece4160",
   "metadata": {},
   "outputs": [
    {
     "name": "stdout",
     "output_type": "stream",
     "text": [
      "6/6 [==============================] - 2s 33ms/step\n"
     ]
    },
    {
     "data": {
      "text/plain": [
       "array([[1.2007282],\n",
       "       [1.2037597],\n",
       "       [1.2154758],\n",
       "       [1.2329793],\n",
       "       [1.24667  ],\n",
       "       [1.2456596],\n",
       "       [1.2307601],\n",
       "       [1.2110826],\n",
       "       [1.19906  ],\n",
       "       [1.1968246],\n",
       "       [1.1912754],\n",
       "       [1.1807308],\n",
       "       [1.1710701],\n",
       "       [1.16219  ],\n",
       "       [1.160791 ],\n",
       "       [1.1661587],\n",
       "       [1.1852281],\n",
       "       [1.2145758],\n",
       "       [1.247369 ],\n",
       "       [1.2790492],\n",
       "       [1.2904475],\n",
       "       [1.284594 ],\n",
       "       [1.2612929],\n",
       "       [1.2297375],\n",
       "       [1.2026277],\n",
       "       [1.1887399],\n",
       "       [1.1875229],\n",
       "       [1.1894982],\n",
       "       [1.1836761],\n",
       "       [1.1730022],\n",
       "       [1.1607338],\n",
       "       [1.1468079],\n",
       "       [1.1260947],\n",
       "       [1.1006684],\n",
       "       [1.0910796],\n",
       "       [1.1023386],\n",
       "       [1.1263078],\n",
       "       [1.1525826],\n",
       "       [1.1763487],\n",
       "       [1.1872953],\n",
       "       [1.1978595],\n",
       "       [1.211457 ],\n",
       "       [1.2280322],\n",
       "       [1.2437395],\n",
       "       [1.2541716],\n",
       "       [1.2547588],\n",
       "       [1.243807 ],\n",
       "       [1.2341337],\n",
       "       [1.2318983],\n",
       "       [1.2387276],\n",
       "       [1.253067 ],\n",
       "       [1.262826 ],\n",
       "       [1.2652955],\n",
       "       [1.2616705],\n",
       "       [1.2594062],\n",
       "       [1.25541  ],\n",
       "       [1.2468452],\n",
       "       [1.2426889],\n",
       "       [1.2522535],\n",
       "       [1.2713025],\n",
       "       [1.2980404],\n",
       "       [1.3293633],\n",
       "       [1.3504775],\n",
       "       [1.3524817],\n",
       "       [1.3380296],\n",
       "       [1.315727 ],\n",
       "       [1.300842 ],\n",
       "       [1.296988 ],\n",
       "       [1.3018346],\n",
       "       [1.3086121],\n",
       "       [1.3149102],\n",
       "       [1.3183057],\n",
       "       [1.314179 ],\n",
       "       [1.3078493],\n",
       "       [1.3025973],\n",
       "       [1.3012114],\n",
       "       [1.3035886],\n",
       "       [1.3090343],\n",
       "       [1.3211994],\n",
       "       [1.3392843],\n",
       "       [1.3622671],\n",
       "       [1.3838317],\n",
       "       [1.3953434],\n",
       "       [1.3956411],\n",
       "       [1.3976105],\n",
       "       [1.4091392],\n",
       "       [1.4270864],\n",
       "       [1.4428332],\n",
       "       [1.4516448],\n",
       "       [1.4532143],\n",
       "       [1.4539282],\n",
       "       [1.4628971],\n",
       "       [1.4802853],\n",
       "       [1.4923906],\n",
       "       [1.4911953],\n",
       "       [1.4770255],\n",
       "       [1.4534873],\n",
       "       [1.4270858],\n",
       "       [1.4059008],\n",
       "       [1.3995165],\n",
       "       [1.4080588],\n",
       "       [1.4264386],\n",
       "       [1.4496706],\n",
       "       [1.4691627],\n",
       "       [1.4800894],\n",
       "       [1.4808264],\n",
       "       [1.4759955],\n",
       "       [1.470315 ],\n",
       "       [1.4698923],\n",
       "       [1.4752834],\n",
       "       [1.4851574],\n",
       "       [1.498548 ],\n",
       "       [1.5118003],\n",
       "       [1.5254796],\n",
       "       [1.5420917],\n",
       "       [1.5559281],\n",
       "       [1.5661206],\n",
       "       [1.5746336],\n",
       "       [1.5856597],\n",
       "       [1.5667719],\n",
       "       [1.5164307],\n",
       "       [1.4528949],\n",
       "       [1.4030107],\n",
       "       [1.3777579],\n",
       "       [1.3703434],\n",
       "       [1.37134  ],\n",
       "       [1.3744899],\n",
       "       [1.3782723],\n",
       "       [1.3731388],\n",
       "       [1.3573321],\n",
       "       [1.349394 ],\n",
       "       [1.3579824],\n",
       "       [1.3739007],\n",
       "       [1.3826574],\n",
       "       [1.3843348],\n",
       "       [1.3823848],\n",
       "       [1.3766018],\n",
       "       [1.3669133],\n",
       "       [1.356176 ],\n",
       "       [1.3422468],\n",
       "       [1.3278567],\n",
       "       [1.3122325],\n",
       "       [1.2792907],\n",
       "       [1.2390739],\n",
       "       [1.2006016],\n",
       "       [1.1718612],\n",
       "       [1.1614856],\n",
       "       [1.1714749],\n",
       "       [1.194419 ],\n",
       "       [1.2205119],\n",
       "       [1.2455878],\n",
       "       [1.2652471],\n",
       "       [1.2794058],\n",
       "       [1.2910885],\n",
       "       [1.3002365],\n",
       "       [1.308504 ],\n",
       "       [1.3181379],\n",
       "       [1.3261838],\n",
       "       [1.3229816],\n",
       "       [1.3075895],\n",
       "       [1.285033 ],\n",
       "       [1.2636166],\n",
       "       [1.2527351],\n",
       "       [1.2565832],\n",
       "       [1.2735683],\n",
       "       [1.2990854],\n",
       "       [1.3215089],\n",
       "       [1.3374197],\n",
       "       [1.3504046],\n",
       "       [1.3620126],\n",
       "       [1.3715179],\n",
       "       [1.3792291],\n",
       "       [1.3854113],\n",
       "       [1.387526 ],\n",
       "       [1.385574 ],\n",
       "       [1.3765514],\n",
       "       [1.3652562],\n",
       "       [1.3577805],\n",
       "       [1.3532023],\n",
       "       [1.3490158],\n",
       "       [1.3773389],\n",
       "       [1.4303753],\n",
       "       [1.4844338],\n",
       "       [1.521241 ],\n",
       "       [1.5342281],\n",
       "       [1.5240117],\n",
       "       [1.4880992],\n",
       "       [1.4452673],\n",
       "       [1.410595 ],\n",
       "       [1.3988804],\n",
       "       [1.4026308],\n",
       "       [1.4093235]], dtype=float32)"
      ]
     },
     "execution_count": 47,
     "metadata": {},
     "output_type": "execute_result"
    }
   ],
   "source": [
    "predicted_Y = final_model.predict(X_test)\n",
    "predicted_Y "
   ]
  },
  {
   "cell_type": "code",
   "execution_count": 48,
   "id": "e786afc7",
   "metadata": {},
   "outputs": [],
   "source": [
    "PredictedGrowth = scaled_data.inverse_transform(predicted_Y)"
   ]
  },
  {
   "cell_type": "code",
   "execution_count": 49,
   "id": "3c09dd7d",
   "metadata": {},
   "outputs": [
    {
     "data": {
      "image/png": "[encoded data removed]",
      "text/plain": [
       "<Figure size 432x288 with 1 Axes>"
      ]
     },
     "metadata": {
      "needs_background": "light"
     },
     "output_type": "display_data"
    }
   ],
   "source": [
    "plt.plot(y_test, color = 'red', label = 'Actual Growth')\n",
    "plt.plot(PredictedGrowth, color = 'blue', label = 'Predicted Growth')\n",
    "plt.title('Stock Market Growth prediction')\n",
    "plt.xlabel('Time')\n",
    "plt.ylabel('Stock Market growth')\n",
    "plt.legend()\n",
    "plt.show()"
   ]
  },
  {
   "cell_type": "code",
   "execution_count": null,
   "id": "511fd6e1",
   "metadata": {},
   "outputs": [],
   "source": []
  }
 ],
 "metadata": {
  "kernelspec": {
   "display_name": "Python 3 (ipykernel)",
   "language": "python",
   "name": "python3"
  },
  "language_info": {
   "codemirror_mode": {
    "name": "ipython",
    "version": 3
   },
   "file_extension": ".py",
   "mimetype": "text/x-python",
   "name": "python",
   "nbconvert_exporter": "python",
   "pygments_lexer": "ipython3",
   "version": "3.10.2"
  }
 },
 "nbformat": 4,
 "nbformat_minor": 5
}
